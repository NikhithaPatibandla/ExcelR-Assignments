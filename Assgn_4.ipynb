{
  "nbformat": 4,
  "nbformat_minor": 0,
  "metadata": {
    "colab": {
      "provenance": [],
      "authorship_tag": "ABX9TyN4HtazcLUycp/yH9vEDXw3",
      "include_colab_link": true
    },
    "kernelspec": {
      "name": "python3",
      "display_name": "Python 3"
    },
    "language_info": {
      "name": "python"
    }
  },
  "cells": [
    {
      "cell_type": "markdown",
      "metadata": {
        "id": "view-in-github",
        "colab_type": "text"
      },
      "source": [
        "<a href=\"https://colab.research.google.com/github/Stardusthues/ExcelR-Assignments/blob/main/Assgn_4.ipynb\" target=\"_parent\"><img src=\"https://colab.research.google.com/assets/colab-badge.svg\" alt=\"Open In Colab\"/></a>"
      ]
    },
    {
      "cell_type": "code",
      "execution_count": null,
      "metadata": {
        "id": "fMKdHh4Fknvp"
      },
      "outputs": [],
      "source": [
        "#Write a Python program to calculate the sum of all even numbers between 1 and a given positive integer n"
      ]
    },
    {
      "cell_type": "code",
      "source": [
        "#Taking input for the positive integer n\n",
        "n = int(input(\"Enter a positive integer n: \"))\n",
        "\n",
        "#Initializing the sum variable\n",
        "sum = 0\n",
        "\n",
        "#Looping through all numbers from 1 to n\n",
        "for number in range(1,n+1):\n",
        "  if number % 2 == 0: #Checking if number is even\n",
        "    sum += number\n",
        "\n",
        "#Printing the sum of even numbers\n",
        "print(\"The sum of all even numbers between 1 and\", n, \"is:\", sum)"
      ],
      "metadata": {
        "colab": {
          "base_uri": "https://localhost:8080/"
        },
        "id": "mzvd6JClk6dT",
        "outputId": "82aff3d1-beb2-425c-8742-218dfb135e32"
      },
      "execution_count": 1,
      "outputs": [
        {
          "output_type": "stream",
          "name": "stdout",
          "text": [
            "Enter a positive integer n: 15\n",
            "The sum of all even numbers between 1 and 15 is: 56\n"
          ]
        }
      ]
    },
    {
      "cell_type": "code",
      "source": [],
      "metadata": {
        "id": "VQzIHNHilf5P"
      },
      "execution_count": null,
      "outputs": []
    }
  ]
}