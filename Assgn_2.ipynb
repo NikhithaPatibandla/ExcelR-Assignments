{
  "nbformat": 4,
  "nbformat_minor": 0,
  "metadata": {
    "colab": {
      "provenance": [],
      "authorship_tag": "ABX9TyPs3seZnJGkeZUM8s1jEQ98",
      "include_colab_link": true
    },
    "kernelspec": {
      "name": "python3",
      "display_name": "Python 3"
    },
    "language_info": {
      "name": "python"
    }
  },
  "cells": [
    {
      "cell_type": "markdown",
      "metadata": {
        "id": "view-in-github",
        "colab_type": "text"
      },
      "source": [
        "<a href=\"https://colab.research.google.com/github/Stardusthues/ExcelR-Assignments/blob/main/Assgn_2.ipynb\" target=\"_parent\"><img src=\"https://colab.research.google.com/assets/colab-badge.svg\" alt=\"Open In Colab\"/></a>"
      ]
    },
    {
      "cell_type": "code",
      "source": [
        "#Create a List, tuple and Dictionary with 5 elements in it and how to access few\n",
        "# elements based on the index. Try  with different examples\n"
      ],
      "metadata": {
        "id": "eFqFrffmggUY"
      },
      "execution_count": null,
      "outputs": []
    },
    {
      "cell_type": "code",
      "execution_count": 4,
      "metadata": {
        "id": "Dyp3dsy5HJ7A",
        "colab": {
          "base_uri": "https://localhost:8080/"
        },
        "outputId": "86b350ee-bf9c-4150-8d1e-67d97e006542"
      },
      "outputs": [
        {
          "output_type": "stream",
          "name": "stdout",
          "text": [
            "First element: 3\n",
            "Third element: 39\n",
            "Last element: 56\n"
          ]
        }
      ],
      "source": [
        "# List with 5 elements\n",
        "mylist = [3, 25, 39, 70, 56]\n",
        "\n",
        "# Accessing elements by index\n",
        "first_element = mylist[0]  # Accessing the first element (index 0)\n",
        "third_element = mylist[2]  # Accessing the third element (index 2)\n",
        "last_element = mylist[-1]  # Accessing the last element using negative index\n",
        "\n",
        "print(\"First element:\", first_element)\n",
        "print(\"Third element:\", third_element)\n",
        "print(\"Last element:\", last_element)\n"
      ]
    },
    {
      "cell_type": "code",
      "source": [
        "# Tuple with 5 elements\n",
        "my_tuple = (10, 20, 30, 40, 50)\n",
        "\n",
        "# Accessing elements by index\n",
        "second_element = my_tuple[1]  # Accessing the second element (index 1)\n",
        "fourth_element = my_tuple[-2]  # Accessing the fourth element (index 3)\n",
        "first_element_tuple = my_tuple[0]  # Accessing the first element (index 0)\n",
        "\n",
        "print(\"Second element:\", second_element)\n",
        "print(\"Fourth element:\", fourth_element)\n",
        "print(\"First element (Tuple):\", first_element_tuple)\n"
      ],
      "metadata": {
        "colab": {
          "base_uri": "https://localhost:8080/"
        },
        "id": "2S3ftYFZfKJy",
        "outputId": "e58b52b4-c5a0-42a3-90fc-281aace7be1c"
      },
      "execution_count": 5,
      "outputs": [
        {
          "output_type": "stream",
          "name": "stdout",
          "text": [
            "Second element: 20\n",
            "Fourth element: 40\n",
            "First element (Tuple): 10\n"
          ]
        }
      ]
    },
    {
      "cell_type": "code",
      "source": [
        "# Dictionary with 5 elements (key-value pairs)\n",
        "my_dict = {\n",
        "    'a': 1,\n",
        "    'b': 2,\n",
        "    'c': 3,\n",
        "    'd': 4,\n",
        "    'e': 5\n",
        "    }\n",
        "\n",
        "# Accessing elements by key\n",
        "value_of_b = my_dict['b']  # Accessing value for key 'b'\n",
        "value_of_d = my_dict['d']  # Accessing value for key 'd'\n",
        "\n",
        "# Accessing the elements using `get` method\n",
        "value_of_e = my_dict.get('e')  # Accessing value for key 'e'\n",
        "\n",
        "print(\"Value of 'b':\", value_of_b)\n",
        "print(\"Value of 'd':\", value_of_d)\n",
        "print(\"Value of 'e' using get():\", value_of_e)\n"
      ],
      "metadata": {
        "colab": {
          "base_uri": "https://localhost:8080/"
        },
        "id": "zGAUyl4tfQG7",
        "outputId": "bd33e1f1-11bc-40be-af60-04361678b722"
      },
      "execution_count": 6,
      "outputs": [
        {
          "output_type": "stream",
          "name": "stdout",
          "text": [
            "Value of 'b': 2\n",
            "Value of 'd': 4\n",
            "Value of 'e' using get(): 5\n"
          ]
        }
      ]
    },
    {
      "cell_type": "code",
      "source": [],
      "metadata": {
        "id": "wYSeQZHMfUMI"
      },
      "execution_count": null,
      "outputs": []
    }
  ]
}