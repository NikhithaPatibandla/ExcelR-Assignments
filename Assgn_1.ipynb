{
  "nbformat": 4,
  "nbformat_minor": 0,
  "metadata": {
    "colab": {
      "provenance": [],
      "authorship_tag": "ABX9TyMz4SLfY3+2383x3FJYG2he",
      "include_colab_link": true
    },
    "kernelspec": {
      "name": "python3",
      "display_name": "Python 3"
    },
    "language_info": {
      "name": "python"
    }
  },
  "cells": [
    {
      "cell_type": "markdown",
      "metadata": {
        "id": "view-in-github",
        "colab_type": "text"
      },
      "source": [
        "<a href=\"https://colab.research.google.com/github/Stardusthues/ExcelR-Assignments/blob/main/Assgn_1.ipynb\" target=\"_parent\"><img src=\"https://colab.research.google.com/assets/colab-badge.svg\" alt=\"Open In Colab\"/></a>"
      ]
    },
    {
      "cell_type": "code",
      "execution_count": 2,
      "metadata": {
        "colab": {
          "base_uri": "https://localhost:8080/"
        },
        "id": "HkcMWQQwTxo1",
        "outputId": "f8b7ea17-0207-490e-bde1-c677070c33dc"
      },
      "outputs": [
        {
          "output_type": "stream",
          "name": "stdout",
          "text": [
            "Integer variable: 10  Type: <class 'int'>\n",
            "Float variable: 3.14  Type: <class 'float'>\n",
            "String variable: Hello, World!  Type: <class 'str'>\n",
            "Boolean variable: True  Type: <class 'bool'>\n"
          ]
        }
      ],
      "source": [
        "# Declaring variables of different data types\n",
        "int_var = 10\n",
        "float_var = 3.14\n",
        "str_var = \"Hello, World!\"\n",
        "bool_var = True\n",
        "\n",
        "# Printing each variable and its type\n",
        "print(\"Integer variable:\", int_var, \" Type:\", type(int_var))\n",
        "print(\"Float variable:\", float_var, \" Type:\", type(float_var))\n",
        "print(\"String variable:\", str_var, \" Type:\", type(str_var))\n",
        "print(\"Boolean variable:\", bool_var, \" Type:\", type(bool_var))\n"
      ]
    },
    {
      "cell_type": "code",
      "source": [],
      "metadata": {
        "id": "J3YPtvzXXirU"
      },
      "execution_count": null,
      "outputs": []
    }
  ]
}