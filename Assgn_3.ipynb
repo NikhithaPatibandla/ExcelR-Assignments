{
  "nbformat": 4,
  "nbformat_minor": 0,
  "metadata": {
    "colab": {
      "provenance": [],
      "authorship_tag": "ABX9TyPJ4bmdn2r7eQ3XMcJj+Hmj",
      "include_colab_link": true
    },
    "kernelspec": {
      "name": "python3",
      "display_name": "Python 3"
    },
    "language_info": {
      "name": "python"
    }
  },
  "cells": [
    {
      "cell_type": "markdown",
      "metadata": {
        "id": "view-in-github",
        "colab_type": "text"
      },
      "source": [
        "<a href=\"https://colab.research.google.com/github/Stardusthues/ExcelR-Assignments/blob/main/Assgn_3.ipynb\" target=\"_parent\"><img src=\"https://colab.research.google.com/assets/colab-badge.svg\" alt=\"Open In Colab\"/></a>"
      ]
    },
    {
      "cell_type": "code",
      "execution_count": 1,
      "metadata": {
        "id": "-GAXApUCaQh-"
      },
      "outputs": [],
      "source": [
        "#Write a Python program that takes a student's marks in three subjects as input.\n",
        "#If the average is greater than or equal to 90, print \"Grade: A\".\n",
        "#If the average is between 80 and 89, print \"Grade: B\".\n",
        "#If the average is between 70 and 79, print \"Grade: C\".\n",
        "#Otherwise, print \"Grade: Fail\".\n",
        "\n"
      ]
    },
    {
      "cell_type": "code",
      "source": [
        "s1 = int(input(\"Enter marks for subject 1: \"))\n",
        "s2 = int(input(\"Enter marks for subject 2: \"))\n",
        "s3 = int(input(\"Enter marks for subject 3: \"))\n",
        "\n",
        "avg = (s1+s2+s3)/3\n",
        "\n",
        "if avg>=90:\n",
        "  print(\"Grade: A\")\n",
        "elif 80<=avg<=89:\n",
        "  print(\"Grade: B\")\n",
        "elif 70<=avg<=79:\n",
        "  print(\"Grade: C\")\n",
        "else:\n",
        "  print(\"Grade: Fail\")"
      ],
      "metadata": {
        "id": "MJRUSq-uaqjQ",
        "colab": {
          "base_uri": "https://localhost:8080/"
        },
        "outputId": "653d5d21-3c39-4c79-f5dd-c7e27d0130b6"
      },
      "execution_count": 4,
      "outputs": [
        {
          "output_type": "stream",
          "name": "stdout",
          "text": [
            "Enter marks for subject 1: 80\n",
            "Enter marks for subject 2: 90\n",
            "Enter marks for subject 3: 80\n",
            "Grade: B\n"
          ]
        }
      ]
    },
    {
      "cell_type": "code",
      "source": [],
      "metadata": {
        "id": "pN5RPci6j5TT"
      },
      "execution_count": null,
      "outputs": []
    }
  ]
}