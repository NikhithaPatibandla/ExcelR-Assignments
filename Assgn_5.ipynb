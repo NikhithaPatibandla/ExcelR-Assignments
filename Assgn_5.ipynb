{
  "nbformat": 4,
  "nbformat_minor": 0,
  "metadata": {
    "colab": {
      "provenance": [],
      "authorship_tag": "ABX9TyNX74oy60vF/NDodIDqlMjJ",
      "include_colab_link": true
    },
    "kernelspec": {
      "name": "python3",
      "display_name": "Python 3"
    },
    "language_info": {
      "name": "python"
    }
  },
  "cells": [
    {
      "cell_type": "markdown",
      "metadata": {
        "id": "view-in-github",
        "colab_type": "text"
      },
      "source": [
        "<a href=\"https://colab.research.google.com/github/Stardusthues/ExcelR-Assignments/blob/main/Assgn_5.ipynb\" target=\"_parent\"><img src=\"https://colab.research.google.com/assets/colab-badge.svg\" alt=\"Open In Colab\"/></a>"
      ]
    },
    {
      "cell_type": "code",
      "execution_count": 1,
      "metadata": {
        "id": "jhOb4DD6l5TA"
      },
      "outputs": [],
      "source": [
        "#Write a Python program that performs the following tasks:\n",
        "\n",
        "#1. Ask the user to enter a positive integer `n`.\n",
        "#2. Use a `for` loop to print all numbers from `1` to `n` on separate lines.\n",
        "#3. Use a `while` loop to calculate the sum of all numbers from `1` to `n` and print the result.\n"
      ]
    },
    {
      "cell_type": "code",
      "source": [
        "#Ask the user to enter a positive integer 'n'\n",
        "n = int(input(\"Enter a positive integer: \"))\n",
        "\n",
        "#Use a 'for' loop to print all numbers from '1' to 'n' on separate lines\n",
        "print(\"Numbers from 1 to\", n, \"on separate lines:\")\n",
        "for i in range(1, n+1):\n",
        "    print(i)\n",
        "\n",
        "#Use a 'while' loop to calculate the sum of all numbers from '1' to 'n'\n",
        "sum = 0\n",
        "i = 1 #Initialize while loop\n",
        "while i <= n:\n",
        "    sum += i\n",
        "    i += 1 #Incrementation\n",
        "\n",
        "#Printing the sum of numbers\n",
        "print(\"The sum of all numbers from 1 to\", n, \"is:\", sum)"
      ],
      "metadata": {
        "colab": {
          "base_uri": "https://localhost:8080/"
        },
        "id": "kXUgrK4ymKHB",
        "outputId": "f3d035c9-cf15-4f51-d9a1-4cad45ed6623"
      },
      "execution_count": 2,
      "outputs": [
        {
          "output_type": "stream",
          "name": "stdout",
          "text": [
            "Enter a positive integer: 30\n",
            "Numbers from 1 to 30 on separate lines:\n",
            "1\n",
            "2\n",
            "3\n",
            "4\n",
            "5\n",
            "6\n",
            "7\n",
            "8\n",
            "9\n",
            "10\n",
            "11\n",
            "12\n",
            "13\n",
            "14\n",
            "15\n",
            "16\n",
            "17\n",
            "18\n",
            "19\n",
            "20\n",
            "21\n",
            "22\n",
            "23\n",
            "24\n",
            "25\n",
            "26\n",
            "27\n",
            "28\n",
            "29\n",
            "30\n",
            "The sum of all numbers from 1 to 30 is: 465\n"
          ]
        }
      ]
    },
    {
      "cell_type": "code",
      "source": [],
      "metadata": {
        "id": "RHDif68bnCTl"
      },
      "execution_count": null,
      "outputs": []
    }
  ]
}